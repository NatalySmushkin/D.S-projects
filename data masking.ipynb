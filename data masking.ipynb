{
 "cells": [
  {
   "cell_type": "markdown",
   "metadata": {},
   "source": [
    "### DATA MASKING"
   ]
  },
  {
   "cell_type": "markdown",
   "metadata": {},
   "source": [
    "The goal of the task is to develop a data transforming algorithm that will protect clients' personal information and will not harm the quality of the linear regression model."
   ]
  },
  {
   "cell_type": "markdown",
   "metadata": {},
   "source": [
    "### 1. Data downloading"
   ]
  },
  {
   "cell_type": "code",
   "execution_count": 1,
   "metadata": {},
   "outputs": [],
   "source": [
    "import pandas as pd\n",
    "import numpy as np\n",
    "from sklearn.metrics import r2_score\n",
    "from sklearn.model_selection import train_test_split"
   ]
  },
  {
   "cell_type": "code",
   "execution_count": 2,
   "metadata": {},
   "outputs": [
    {
     "data": {
      "text/html": [
       "<div>\n",
       "<style scoped>\n",
       "    .dataframe tbody tr th:only-of-type {\n",
       "        vertical-align: middle;\n",
       "    }\n",
       "\n",
       "    .dataframe tbody tr th {\n",
       "        vertical-align: top;\n",
       "    }\n",
       "\n",
       "    .dataframe thead th {\n",
       "        text-align: right;\n",
       "    }\n",
       "</style>\n",
       "<table border=\"1\" class=\"dataframe\">\n",
       "  <thead>\n",
       "    <tr style=\"text-align: right;\">\n",
       "      <th></th>\n",
       "      <th>Gender</th>\n",
       "      <th>Age</th>\n",
       "      <th>Salary</th>\n",
       "      <th>Family members</th>\n",
       "      <th>Insurance benefits</th>\n",
       "    </tr>\n",
       "  </thead>\n",
       "  <tbody>\n",
       "    <tr>\n",
       "      <td>0</td>\n",
       "      <td>1</td>\n",
       "      <td>41.0</td>\n",
       "      <td>49600.0</td>\n",
       "      <td>1</td>\n",
       "      <td>0</td>\n",
       "    </tr>\n",
       "    <tr>\n",
       "      <td>1</td>\n",
       "      <td>0</td>\n",
       "      <td>46.0</td>\n",
       "      <td>38000.0</td>\n",
       "      <td>1</td>\n",
       "      <td>1</td>\n",
       "    </tr>\n",
       "    <tr>\n",
       "      <td>2</td>\n",
       "      <td>0</td>\n",
       "      <td>29.0</td>\n",
       "      <td>21000.0</td>\n",
       "      <td>0</td>\n",
       "      <td>0</td>\n",
       "    </tr>\n",
       "    <tr>\n",
       "      <td>3</td>\n",
       "      <td>0</td>\n",
       "      <td>21.0</td>\n",
       "      <td>41700.0</td>\n",
       "      <td>2</td>\n",
       "      <td>0</td>\n",
       "    </tr>\n",
       "    <tr>\n",
       "      <td>4</td>\n",
       "      <td>1</td>\n",
       "      <td>28.0</td>\n",
       "      <td>26100.0</td>\n",
       "      <td>0</td>\n",
       "      <td>0</td>\n",
       "    </tr>\n",
       "  </tbody>\n",
       "</table>\n",
       "</div>"
      ],
      "text/plain": [
       "   Gender   Age   Salary  Family members  Insurance benefits\n",
       "0       1  41.0  49600.0               1                   0\n",
       "1       0  46.0  38000.0               1                   1\n",
       "2       0  29.0  21000.0               0                   0\n",
       "3       0  21.0  41700.0               2                   0\n",
       "4       1  28.0  26100.0               0                   0"
      ]
     },
     "execution_count": 2,
     "metadata": {},
     "output_type": "execute_result"
    }
   ],
   "source": [
    "df=pd.read_csv('/datasets/insurance_us.csv')\n",
    "df.head()"
   ]
  },
  {
   "cell_type": "code",
   "execution_count": 3,
   "metadata": {},
   "outputs": [
    {
     "name": "stdout",
     "output_type": "stream",
     "text": [
      "<class 'pandas.core.frame.DataFrame'>\n",
      "RangeIndex: 5000 entries, 0 to 4999\n",
      "Data columns (total 5 columns):\n",
      "Gender                5000 non-null int64\n",
      "Age                   5000 non-null float64\n",
      "Salary                5000 non-null float64\n",
      "Family members        5000 non-null int64\n",
      "Insurance benefits    5000 non-null int64\n",
      "dtypes: float64(2), int64(3)\n",
      "memory usage: 195.4 KB\n"
     ]
    }
   ],
   "source": [
    "df.info()"
   ]
  },
  {
   "cell_type": "markdown",
   "metadata": {},
   "source": [
    "We have dataset with 5000 entries. 5 columns: two floats and 3 integers types. No missing values. "
   ]
  },
  {
   "cell_type": "markdown",
   "metadata": {},
   "source": [
    "### 2. Multiplication of matrices"
   ]
  },
  {
   "cell_type": "markdown",
   "metadata": {},
   "source": [
    "Denote:\n",
    "\n",
    "- $X$ — feature matrix (zero column consists of unities)\n",
    "\n",
    "- $y$ — target vector\n",
    "\n",
    "- $P$ — matrix by which the features are multiplied\n",
    "\n",
    "- $w$ — linear regression weight vector (zero element is equal to the shift)"
   ]
  },
  {
   "cell_type": "markdown",
   "metadata": {},
   "source": [
    "Predictions:\n",
    "\n",
    "$$\n",
    "a = Xw\n",
    "$$\n",
    "\n",
    "Training objective:\n",
    "\n",
    "$$\n",
    "\\min_w d_2(Xw, y)\n",
    "$$\n",
    "\n",
    "Training formula:\n",
    "\n",
    "$$\n",
    "w = (X^T X)^{-1} X^T y\n",
    "$$"
   ]
  },
  {
   "cell_type": "markdown",
   "metadata": {},
   "source": [
    "*Answer:* \n",
    "#### The predictions with or without matrix P are the same. \n",
    "\n",
    "\n",
    "\n",
    "*Justification:* \n",
    "\n",
    "Let's assume that P is our invertible matrix and $ X'= XP $. Now we'll find connection between weight vector $w'$ and $w$.\n",
    "\n",
    "$$\n",
    "𝑤′=((𝑋P)^𝑇(𝑋P))^{−1}(𝑋P)^𝑇𝑦\n",
    "$$\n",
    "\n",
    "Here we'll use such properties of matrices: \n",
    "\n",
    "$ (AB)^T = B^TA^T $ and $ (AB)^{-1} = B^{-1}A^{-1} $ and $ AA^{-1}=1 $\n",
    "\n",
    "So,\n",
    "\n",
    "$$ w' = (P^TX^TXP)^{-1}P^TX^Ty $$\n",
    "\n",
    "$$ w' = (X^TXP)^{-1}(P^T)^{-1}P^TX^Ty $$\n",
    "\n",
    "$$ w' = (X^TXP)^{-1}X^Ty $$\n",
    "\n",
    "$$ w' = P^{-1}(X^TX)^{-1}X^Ty $$\n",
    "\n",
    "$$ w' = P^{-1}w $$\n",
    "\n",
    "Now let's prove that predictions are the same ($ a = a' $)\n",
    "\n",
    "$$ a' = X'w' $$\n",
    "\n",
    "$$ a' = XPP^{-1}w $$\n",
    "\n",
    "$$ a' = Xw = a $$\n",
    "\n",
    "$$ a' = a $$                                        "
   ]
  },
  {
   "cell_type": "markdown",
   "metadata": {},
   "source": [
    "### 3. Transformation algorithm"
   ]
  },
  {
   "cell_type": "markdown",
   "metadata": {},
   "source": [
    "We'll generate a random matrix using the numpy.random.normal() function. Our matrix should be invertible (4,4) size."
   ]
  },
  {
   "cell_type": "code",
   "execution_count": 4,
   "metadata": {},
   "outputs": [
    {
     "data": {
      "text/plain": [
       "array([[ 1.27441429,  1.31479393,  0.28503923,  0.14161571],\n",
       "       [-1.83615311,  0.58860192,  0.60888692, -0.30618003],\n",
       "       [-0.49312915,  0.21603914,  0.81105444,  0.72070484],\n",
       "       [ 0.84774782, -1.08708203,  0.16753061, -0.84089861]])"
      ]
     },
     "execution_count": 4,
     "metadata": {},
     "output_type": "execute_result"
    }
   ],
   "source": [
    "P = np.random.normal(size=(4,4))\n",
    "P"
   ]
  },
  {
   "cell_type": "markdown",
   "metadata": {},
   "source": [
    "Let's check our matrix for invertibility: we'll find the inverse matrix by calling the numpy.linalg.inv() function. If we'll get an error then matrix is non-invertible."
   ]
  },
  {
   "cell_type": "code",
   "execution_count": 5,
   "metadata": {},
   "outputs": [
    {
     "data": {
      "text/plain": [
       "array([[ 0.27990232, -0.27416468,  0.06550233,  0.20310434],\n",
       "       [ 0.45718526,  0.26895391, -0.30437796, -0.28180612],\n",
       "       [ 0.2742896 ,  0.26866952,  0.80331652,  0.63686225],\n",
       "       [-0.25420353, -0.57056474,  0.6195674 , -0.4932562 ]])"
      ]
     },
     "execution_count": 5,
     "metadata": {},
     "output_type": "execute_result"
    }
   ],
   "source": [
    "np.linalg.inv(P)"
   ]
  },
  {
   "cell_type": "markdown",
   "metadata": {},
   "source": [
    "P is invertible matrix."
   ]
  },
  {
   "cell_type": "markdown",
   "metadata": {},
   "source": [
    "For data transformation we'll multiply feature matrix by matrix P. We saw above that the predictions by linear regression stayed the same also after transformation.    "
   ]
  },
  {
   "cell_type": "markdown",
   "metadata": {},
   "source": [
    "### 4. Algorithm test\n"
   ]
  },
  {
   "cell_type": "markdown",
   "metadata": {},
   "source": [
    "Let's check if the quality of linear regression stays the same before and after transformation using R2 metric."
   ]
  },
  {
   "cell_type": "markdown",
   "metadata": {},
   "source": [
    "* before transformation"
   ]
  },
  {
   "cell_type": "code",
   "execution_count": 6,
   "metadata": {},
   "outputs": [],
   "source": [
    "features = df.drop('Insurance benefits', axis=1)\n",
    "target = df['Insurance benefits']\n",
    "\n",
    "# split the data into a training set and test set at a ratio of 75:25\n",
    "features_train, features_test, target_train, target_test = train_test_split(features, target, test_size=0.25, random_state=12345)\n",
    "    "
   ]
  },
  {
   "cell_type": "code",
   "execution_count": 7,
   "metadata": {},
   "outputs": [
    {
     "name": "stdout",
     "output_type": "stream",
     "text": [
      "R2 score before transformation: 0.43522757127026657\n"
     ]
    }
   ],
   "source": [
    "class LinearRegression:\n",
    "    def fit(self, train_features, train_target):\n",
    "        X = np.concatenate((np.ones((train_features.shape[0], 1)), train_features), axis=1) \n",
    "    \n",
    "        y = train_target\n",
    "        w = ((np.linalg.inv(X.T @ X)).dot(X.T)).dot(y)\n",
    "        self.w = w[1:]\n",
    "        self.w0 = w[0]\n",
    "\n",
    "    def predict(self, test_features):\n",
    "        return test_features.dot(self.w) + self.w0\n",
    "    \n",
    "model = LinearRegression()\n",
    "model.fit(features_train, target_train)\n",
    "predictions = model.predict(features_test)\n",
    "\n",
    "print('R2 score before transformation:', r2_score(target_test, predictions))"
   ]
  },
  {
   "cell_type": "markdown",
   "metadata": {},
   "source": [
    "* after transformation"
   ]
  },
  {
   "cell_type": "code",
   "execution_count": 8,
   "metadata": {},
   "outputs": [
    {
     "name": "stdout",
     "output_type": "stream",
     "text": [
      "R2 score after transformation: 0.4352275689346069\n"
     ]
    }
   ],
   "source": [
    "# multiplication of two matrices \n",
    "features_P = features @ P\n",
    "\n",
    "# split the data into a training set and test set at a ratio of 75:25\n",
    "features_train_P, features_test_P, target_train, target_test = train_test_split(features_P, target, test_size=0.25, random_state=12345)\n",
    "    \n",
    "    \n",
    "model = LinearRegression()\n",
    "model.fit(features_train_P, target_train)\n",
    "predictions = model.predict(features_test_P)\n",
    "\n",
    "print('R2 score after transformation:', r2_score(target_test, predictions))"
   ]
  },
  {
   "cell_type": "markdown",
   "metadata": {},
   "source": [
    "#### We can see that the data transformation algorithm, based on multiplication feature matrix by invertible matrix, doesn't harm the quality of linear regresion model.  \n",
    "\n",
    "#### The quality stays the same for both sets of parameters: the original features and the features after multiplication"
   ]
  }
 ],
 "metadata": {
  "kernelspec": {
   "display_name": "Python 3",
   "language": "python",
   "name": "python3"
  },
  "language_info": {
   "codemirror_mode": {
    "name": "ipython",
    "version": 3
   },
   "file_extension": ".py",
   "mimetype": "text/x-python",
   "name": "python",
   "nbconvert_exporter": "python",
   "pygments_lexer": "ipython3",
   "version": "3.7.6"
  }
 },
 "nbformat": 4,
 "nbformat_minor": 2
}
